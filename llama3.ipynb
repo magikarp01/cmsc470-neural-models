{
 "cells": [
  {
   "cell_type": "markdown",
   "metadata": {},
   "source": [
    "# Generating QB Questions\n",
    "Phillip Guo\n",
    "\n",
    "In this HW I'll be loading Meta's new LLaMA 3 8B Instruct model and training it with lora to generate quizbowl questions, given an answer (first). I will fine tune it on a particular chat format, taking in the system prompt, an answer, then a question (in inference, I'll provide the answer). I also trained a Llama 2 7B Chat lora to do the same.\n",
    "\n",
    "Memory requirements: for training, depends on learning rate. I rented an 80GB GPU from Vast.ai to have batch size 16.\n",
    "For inference, only require 24GB GPU. I uploaded the saved PEFTs in the github, in meta-llama/Meta-Llama-3-8B-Instruct-qa-lora and meta-llama/Llama-2-7b-chat-hf"
   ]
  },
  {
   "cell_type": "markdown",
   "metadata": {},
   "source": [
    "## Load LLaMA-3"
   ]
  },
  {
   "cell_type": "code",
   "execution_count": 1,
   "metadata": {},
   "outputs": [
    {
     "name": "stderr",
     "output_type": "stream",
     "text": [
      "/opt/conda/lib/python3.10/site-packages/tqdm/auto.py:21: TqdmWarning: IProgress not found. Please update jupyter and ipywidgets. See https://ipywidgets.readthedocs.io/en/stable/user_install.html\n",
      "  from .autonotebook import tqdm as notebook_tqdm\n"
     ]
    }
   ],
   "source": [
    "%load_ext autoreload\n",
    "%autoreload 2\n",
    "import numpy as np\n",
    "import matplotlib.pyplot as plt\n",
    "import transformers\n",
    "import datasets\n",
    "import torch\n",
    "import pandas as pd\n",
    "from tqdm.auto import tqdm\n",
    "import pickle\n",
    "import einops\n",
    "import os\n",
    "from datetime import datetime\n",
    "import transformers"
   ]
  },
  {
   "cell_type": "code",
   "execution_count": 2,
   "metadata": {},
   "outputs": [
    {
     "name": "stderr",
     "output_type": "stream",
     "text": [
      "Loading checkpoint shards: 100%|██████████| 2/2 [00:20<00:00, 10.31s/it]\n"
     ]
    }
   ],
   "source": [
    "from transformers import AutoTokenizer, AutoModelForCausalLM, LlamaForCausalLM, LlamaTokenizer\n",
    "from peft import PeftModel\n",
    "# model_name = \"meta-llama/Meta-Llama-3-8B-Instruct\"\n",
    "model_name = \"meta-llama/Llama-2-7b-chat-hf\"\n",
    "model =LlamaForCausalLM.from_pretrained(model_name, torch_dtype=torch.bfloat16, device_map='auto')\n",
    "tokenizer = AutoTokenizer.from_pretrained(model_name)\n",
    "# model = LlamaForCausalLM.from_pretrained(\"meta-llama/Llama-2-7b-chat-hf\", torch_dtype=torch.bfloat16, device_map='auto')\n",
    "# tokenizer = AutoTokenizer.from_pretrained(\"meta-llama/Llama-2-7b-chat-hf\")\n",
    "tokenizer.pad_token = tokenizer.eos_token\n",
    "# tokenizer.add_special_tokens(\n",
    "#     {\n",
    "\n",
    "#         \"pad_token\": \"<PAD>\",\n",
    "#     }\n",
    "# )\n"
   ]
  },
  {
   "cell_type": "markdown",
   "metadata": {},
   "source": [
    "## Load Dataset"
   ]
  },
  {
   "cell_type": "code",
   "execution_count": 3,
   "metadata": {},
   "outputs": [
    {
     "name": "stdout",
     "output_type": "stream",
     "text": [
      "18460\n",
      "dict_keys(['text', 'answer', 'page', 'category', 'subcategory', 'tournament', 'difficulty', 'year', 'proto_id', 'qdb_id', 'dataset', 'qanta_id', 'tokenizations', 'first_sentence', 'answer_prompt', 'gameplay', 'fold'])\n",
      "{'text': 'After this character relates a story about how he didn\\'t know the proper way to use a wheelbarrow, he tells of how a captain dining with his father mistakenly rubbed his hands in a punch bowl.\\xa0This \"sea Prince of Wales\" leaves his home by hiding out in a canoe near a coral reef, and he is mistakenly called \"Hedgehog\" by a character who offers him a ninetieth lay, a partner of Bildad named Peleg. A door is broken down in Mrs. Hussey\\'s establishment after he locks himself in his room during a \"Ramadan.\"\\xa0He is first encountered in the Spouter-Inn where the landlord thinks he may be late because \"he can\\'t sell his head,\" and his coffin helps save the narrator after the ship he\\'s on sinks.\\xa0For 10 points, name this native of Rokovoko and savage companion of Ishmael in Moby-Dick.', 'answer': 'Queequeg', 'page': 'Queequeg', 'category': 'Literature', 'subcategory': 'Literature American', 'tournament': 'ACF Winter', 'difficulty': 'College', 'year': 2010, 'proto_id': '5476990eea23cca905506d51', 'qdb_id': None, 'dataset': 'protobowl', 'qanta_id': 0, 'tokenizations': [[0, 192], [193, 398], [399, 506], [507, 693], [694, 783]], 'first_sentence': \"After this character relates a story about how he didn't know the proper way to use a wheelbarrow, he tells of how a captain dining with his father mistakenly rubbed his hands in a punch bowl.\", 'answer_prompt': '', 'gameplay': True, 'fold': 'buzztrain'}\n"
     ]
    }
   ],
   "source": [
    "# open qanta.buzztrain.json\n",
    "import json\n",
    "\n",
    "with open('qanta.buzztrain.json', 'r') as f:\n",
    "    data = json.load(f)\n",
    "\n",
    "print(len(data))\n",
    "print(data[0].keys())\n",
    "print(data[0])\n",
    "\n",
    "train_data = data[:int(len(data)*.8)]\n",
    "test_data = data[int(len(data)*.8):int(len(data)*.9)]\n",
    "gen_data = data[int(len(data)*.9):]\n",
    "\n",
    "train_data = train_data[:5000]"
   ]
  },
  {
   "cell_type": "code",
   "execution_count": 4,
   "metadata": {},
   "outputs": [
    {
     "name": "stderr",
     "output_type": "stream",
     "text": [
      "Map: 100%|██████████| 5000/5000 [00:09<00:00, 511.41 examples/s]\n",
      "Map: 100%|██████████| 1846/1846 [00:03<00:00, 544.78 examples/s]\n",
      "Map: 100%|██████████| 1846/1846 [00:01<00:00, 1206.18 examples/s]\n"
     ]
    }
   ],
   "source": [
    "trivia_system_message = {\"role\": \"system\", \"content\": \"\"\"You are a helpful assistant generating trivia questions. I will provide an answer, and you must generate a quizbowl question that gives clues about the answer starting with hard and ending with easy questions.\"\"\"}\n",
    "from datasets import Dataset\n",
    "\n",
    "max_length = 512\n",
    "# Assuming 'data' is your list of dictionaries\n",
    "train_dataset = Dataset.from_pandas(pd.DataFrame(train_data))\n",
    "test_dataset = Dataset.from_pandas(pd.DataFrame(test_data))\n",
    "gen_dataset = Dataset.from_pandas(pd.DataFrame(gen_data))\n",
    "def preprocess_llama_dataset_for_hf(example, include_question=True, sys_msg=trivia_system_message, tokenizer=tokenizer):\n",
    "    # make a dialogue\n",
    "    answer_msg = {\"role\": \"user\", \"content\": f\"Answer: {example['answer']}\"}\n",
    "    dialogue = [sys_msg, answer_msg]\n",
    "    \n",
    "    if include_question:\n",
    "        question_msg = {\"role\": \"assistant\", \"content\": f\"Question:\\n{example['text']}\"}\n",
    "        dialogue.append(question_msg)\n",
    "        # chat = tokenizer.apply_chat_template(dialogue, truncation=True, padding=True, max_length=512)\n",
    "        chat = tokenizer.apply_chat_template(dialogue)\n",
    "    else:\n",
    "        question_msg = {\"role\": \"assistant\", \"content\": \"Question:\\n\"}\n",
    "        dialogue.append(question_msg)\n",
    "        chat = tokenizer.apply_chat_template(dialogue)[:-1]\n",
    "\n",
    "    # Return the necessary fields\n",
    "    return {\n",
    "        \"input_ids\": chat,\n",
    "        \"formatted_prompt\": tokenizer.decode(chat),\n",
    "        \"labels\": chat,\n",
    "    }\n",
    "\n",
    "# Apply the preprocessing function to each item in the dataset\n",
    "train_dataset = train_dataset.map(preprocess_llama_dataset_for_hf, batched=False)\n",
    "test_dataset = test_dataset.map(preprocess_llama_dataset_for_hf, batched=False)\n",
    "gen_dataset = gen_dataset.map(lambda example: preprocess_llama_dataset_for_hf(example, include_question=False), batched=False)\n"
   ]
  },
  {
   "cell_type": "markdown",
   "metadata": {},
   "source": [
    "### Sample Generation"
   ]
  },
  {
   "cell_type": "code",
   "execution_count": 5,
   "metadata": {},
   "outputs": [
    {
     "name": "stdout",
     "output_type": "stream",
     "text": [
      "<s> [INST] <<SYS>>\n",
      "You are a helpful assistant generating trivia questions. I will provide an answer, and you must generate a quizbowl question that gives clues about the answer starting with hard and ending with easy questions.\n",
      "<</SYS>>\n",
      "\n",
      "Answer: Queequeg [/INST] Question:\n",
      "After this character relates a story about how he didn't know the proper way to use a wheelbarrow, he tells of how a captain dining with his father mistakenly rubbed his hands in a punch bowl. This \"sea Prince of Wales\" leaves his home by hiding out in a canoe near a coral reef, and he is mistakenly called \"Hedgehog\" by a character who offers him a ninetieth lay, a partner of Bildad named Peleg. A door is broken down in Mrs. Hussey's establishment after he locks himself in his room during a \"Ramadan.\" He is first encountered in the Spouter-Inn where the landlord thinks he may be late because \"he can't sell his head,\" and his coffin helps save the narrator after the ship he's on sinks. For 10 points, name this native of Rokovoko and savage companion of Ishmael in Moby-Dick. </s>\n",
      "<s> [INST] <<SYS>>\n",
      "You are a helpful assistant generating trivia questions. I will provide an answer, and you must generate a quizbowl question that gives clues about the answer starting with hard and ending with easy questions.\n",
      "<</SYS>>\n",
      "\n",
      "Answer: cochlear implant [accept rough equivalents; do not accept \"hearing aid\"] [/INST] Question: \n",
      "\n",
      "Hard: What is the primary purpose of a cochlear implant, a medical device that has gained popularity in recent years?\n",
      "\n",
      "Easy: In what year was the first cochlear implant surgery performed, marking the beginning of a new era in hearing restoration?</s>\n"
     ]
    }
   ],
   "source": [
    "# test generation\n",
    "print(tokenizer.decode(train_dataset[0]['input_ids']))\n",
    "# print(len(train_dataset[1]['input_ids']))\n",
    "sample_input = torch.tensor(gen_dataset[0]['input_ids'], device=\"cuda\").unsqueeze(0)\n",
    "# print(tokenizer.decode(sample_input))\n",
    "generation = model.generate(sample_input, max_new_tokens=100)\n",
    "print(tokenizer.batch_decode(generation)[0])"
   ]
  },
  {
   "cell_type": "markdown",
   "metadata": {},
   "source": [
    "## train a rank-16 LoRA\n",
    "\n",
    "Parts are taken from https://github.com/meta-llama/llama-recipes/blob/main/recipes/finetuning/huggingface_trainer/peft_finetuning.ipynb"
   ]
  },
  {
   "cell_type": "code",
   "execution_count": 6,
   "metadata": {},
   "outputs": [
    {
     "name": "stdout",
     "output_type": "stream",
     "text": [
      "trainable params: 8,388,608 || all params: 6,746,804,224 || trainable%: 0.12433454005023165\n"
     ]
    },
    {
     "data": {
      "text/plain": [
       "PeftModelForCausalLM(\n",
       "  (base_model): LoraModel(\n",
       "    (model): LlamaForCausalLM(\n",
       "      (model): LlamaModel(\n",
       "        (embed_tokens): Embedding(32000, 4096)\n",
       "        (layers): ModuleList(\n",
       "          (0-31): 32 x LlamaDecoderLayer(\n",
       "            (self_attn): LlamaSdpaAttention(\n",
       "              (q_proj): lora.Linear(\n",
       "                (base_layer): Linear(in_features=4096, out_features=4096, bias=False)\n",
       "                (lora_dropout): ModuleDict(\n",
       "                  (default): Dropout(p=0.05, inplace=False)\n",
       "                )\n",
       "                (lora_A): ModuleDict(\n",
       "                  (default): Linear(in_features=4096, out_features=16, bias=False)\n",
       "                )\n",
       "                (lora_B): ModuleDict(\n",
       "                  (default): Linear(in_features=16, out_features=4096, bias=False)\n",
       "                )\n",
       "                (lora_embedding_A): ParameterDict()\n",
       "                (lora_embedding_B): ParameterDict()\n",
       "              )\n",
       "              (k_proj): Linear(in_features=4096, out_features=4096, bias=False)\n",
       "              (v_proj): lora.Linear(\n",
       "                (base_layer): Linear(in_features=4096, out_features=4096, bias=False)\n",
       "                (lora_dropout): ModuleDict(\n",
       "                  (default): Dropout(p=0.05, inplace=False)\n",
       "                )\n",
       "                (lora_A): ModuleDict(\n",
       "                  (default): Linear(in_features=4096, out_features=16, bias=False)\n",
       "                )\n",
       "                (lora_B): ModuleDict(\n",
       "                  (default): Linear(in_features=16, out_features=4096, bias=False)\n",
       "                )\n",
       "                (lora_embedding_A): ParameterDict()\n",
       "                (lora_embedding_B): ParameterDict()\n",
       "              )\n",
       "              (o_proj): Linear(in_features=4096, out_features=4096, bias=False)\n",
       "              (rotary_emb): LlamaRotaryEmbedding()\n",
       "            )\n",
       "            (mlp): LlamaMLP(\n",
       "              (gate_proj): Linear(in_features=4096, out_features=11008, bias=False)\n",
       "              (up_proj): Linear(in_features=4096, out_features=11008, bias=False)\n",
       "              (down_proj): Linear(in_features=11008, out_features=4096, bias=False)\n",
       "              (act_fn): SiLU()\n",
       "            )\n",
       "            (input_layernorm): LlamaRMSNorm()\n",
       "            (post_attention_layernorm): LlamaRMSNorm()\n",
       "          )\n",
       "        )\n",
       "        (norm): LlamaRMSNorm()\n",
       "      )\n",
       "      (lm_head): Linear(in_features=4096, out_features=32000, bias=False)\n",
       "    )\n",
       "  )\n",
       ")"
      ]
     },
     "execution_count": 6,
     "metadata": {},
     "output_type": "execute_result"
    }
   ],
   "source": [
    "from peft import get_peft_model\n",
    "from peft import LoraConfig, TaskType\n",
    "\n",
    "model.train()\n",
    "\n",
    "def create_peft_config(model):\n",
    "    from peft import (\n",
    "        get_peft_model,\n",
    "        LoraConfig,\n",
    "        TaskType,\n",
    "    )\n",
    "\n",
    "    peft_config = LoraConfig(\n",
    "        task_type=TaskType.CAUSAL_LM,\n",
    "        inference_mode=False,\n",
    "        r=16,\n",
    "        lora_alpha=32,\n",
    "        lora_dropout=0.05,\n",
    "        target_modules = [\"q_proj\", \"v_proj\"]\n",
    "    )\n",
    "\n",
    "    model = get_peft_model(model, peft_config)\n",
    "    model.print_trainable_parameters()\n",
    "    return model, peft_config\n",
    "\n",
    "# create peft config\n",
    "model, lora_config = create_peft_config(model)\n",
    "model.cuda()"
   ]
  },
  {
   "cell_type": "markdown",
   "metadata": {},
   "source": [
    "## Couldn't get huggingface trainer to work so writing my own train loop"
   ]
  },
  {
   "cell_type": "code",
   "execution_count": 7,
   "metadata": {},
   "outputs": [],
   "source": [
    "from torch.nn.utils.rnn import pad_sequence\n",
    "\n",
    "class CustomDataCollator:\n",
    "    def __call__(self, batch):\n",
    "        # Extract input_ids from the batch (assuming batch is a list of dicts)\n",
    "        input_ids = [item['input_ids'] for item in batch]\n",
    "\n",
    "        # Convert input_ids into a list of tensors\n",
    "        input_ids_tensors = [torch.tensor(ids) for ids in input_ids]\n",
    "\n",
    "        # Pad the sequences so they all have the same length\n",
    "        padded_input_ids = pad_sequence(input_ids_tensors, batch_first=True, padding_value=0)\n",
    "        \n",
    "        # Create attention masks for the input_ids\n",
    "        # Masks are 1 for any non-padding tokens and 0 for padding\n",
    "        attention_masks = padded_input_ids != 0\n",
    "\n",
    "        # You can return a dictionary with the masks and the padded input ids\n",
    "        return {\n",
    "            'input_ids': padded_input_ids,\n",
    "            'attention_mask': attention_masks\n",
    "        }\n",
    "from torch.utils.data import DataLoader\n",
    "batch_size = 16\n",
    "train_loader = DataLoader(train_dataset, batch_size=batch_size, shuffle=True, collate_fn=CustomDataCollator())\n",
    "test_loader = DataLoader(test_dataset, batch_size=batch_size, shuffle=True, collate_fn=CustomDataCollator())\n",
    "\n",
    "train_iter = iter(train_loader)\n",
    "test_iter = iter(test_loader)"
   ]
  },
  {
   "cell_type": "code",
   "execution_count": 8,
   "metadata": {},
   "outputs": [
    {
     "name": "stderr",
     "output_type": "stream",
     "text": [
      "/opt/conda/lib/python3.10/site-packages/torch/nn/_reduction.py:42: UserWarning: size_average and reduce args will be deprecated, please use reduction='mean' instead.\n",
      "  warnings.warn(warning.format(ret))\n",
      "  0%|          | 0/50 [00:00<?, ?it/s]"
     ]
    },
    {
     "name": "stderr",
     "output_type": "stream",
     "text": [
      "  2%|▏         | 1/50 [00:05<04:19,  5.29s/it]"
     ]
    },
    {
     "name": "stdout",
     "output_type": "stream",
     "text": [
      "Step 0, Train Loss: 3.7007407546043396, Test Loss: 3.6590341329574585\n"
     ]
    },
    {
     "name": "stderr",
     "output_type": "stream",
     "text": [
      " 22%|██▏       | 11/50 [00:41<02:33,  3.94s/it]"
     ]
    },
    {
     "name": "stdout",
     "output_type": "stream",
     "text": [
      "Step 10, Train Loss: 2.5925450921058655, Test Loss: 2.628168046474457\n"
     ]
    },
    {
     "name": "stderr",
     "output_type": "stream",
     "text": [
      " 42%|████▏     | 21/50 [01:18<02:00,  4.16s/it]"
     ]
    },
    {
     "name": "stdout",
     "output_type": "stream",
     "text": [
      "Step 20, Train Loss: 2.082644760608673, Test Loss: 2.0860084891319275\n"
     ]
    },
    {
     "name": "stderr",
     "output_type": "stream",
     "text": [
      " 62%|██████▏   | 31/50 [01:54<01:16,  4.01s/it]"
     ]
    },
    {
     "name": "stdout",
     "output_type": "stream",
     "text": [
      "Step 30, Train Loss: 1.763522058725357, Test Loss: 1.7754258215427399\n"
     ]
    },
    {
     "name": "stderr",
     "output_type": "stream",
     "text": [
      " 82%|████████▏ | 41/50 [02:31<00:35,  3.98s/it]"
     ]
    },
    {
     "name": "stdout",
     "output_type": "stream",
     "text": [
      "Step 40, Train Loss: 1.660987913608551, Test Loss: 1.655565232038498\n"
     ]
    },
    {
     "name": "stderr",
     "output_type": "stream",
     "text": [
      "100%|██████████| 50/50 [03:04<00:00,  3.69s/it]"
     ]
    },
    {
     "name": "stdout",
     "output_type": "stream",
     "text": [
      "Step 49, Train Loss: 1.558701992034912, Test Loss: 1.6785098910331726\n",
      "Training complete.\n"
     ]
    },
    {
     "name": "stderr",
     "output_type": "stream",
     "text": [
      "\n"
     ]
    }
   ],
   "source": [
    "# FUCK THIS INDEXING IT WAS SO ANNOYING\n",
    "\n",
    "num_steps = 50  # Set the number of training steps\n",
    "current_step = 0\n",
    "\n",
    "grad_accum_steps = 4\n",
    "device=\"cuda\"\n",
    "model.train()  # Set the model to training mode\n",
    "\n",
    "trainable_params = []\n",
    "for name, param in model.named_parameters():\n",
    "    if param.requires_grad:\n",
    "        trainable_params.append(param)\n",
    "from torch.optim import AdamW\n",
    "optimizer = AdamW(trainable_params, lr=1e-4)\n",
    "criterion = torch.nn.CrossEntropyLoss(reduce=True)\n",
    "\n",
    "train_losses = []\n",
    "test_losses = []\n",
    "for current_step in tqdm(range(num_steps)):\n",
    "    optimizer.zero_grad()  # Clear previous gradients\n",
    "\n",
    "    tot_loss = 0\n",
    "    for i in range(grad_accum_steps):\n",
    "        batch = next(train_iter)\n",
    "        \n",
    "        # Move batch to the same device as the model\n",
    "        input_ids = batch['input_ids'].to(device)\n",
    "        attention_mask = batch['attention_mask'].to(device)\n",
    "\n",
    "        # Prepare targets: for predicting the next token, shift input_ids to the left\n",
    "        labels = input_ids[:, 1:][attention_mask[:, 1:]].contiguous()\n",
    "\n",
    "        model_output = model(input_ids[:, :-1].contiguous(), attention_mask=attention_mask[:, :-1].contiguous())\n",
    "        logits = model_output.logits[attention_mask[:, 1:].contiguous()]\n",
    "        # print(f\"input_ids shape: {input_ids.shape}, {logits.shape=}, {labels.shape=}\")\n",
    "\n",
    "        loss = criterion(logits, labels)\n",
    "        # if loss is nan ignore\n",
    "        if torch.isnan(loss):\n",
    "            print(\"Loss is nan, skipping\")\n",
    "            continue\n",
    "        # print(loss)\n",
    "        tot_loss += loss.item()\n",
    "\n",
    "        # Backward pass and optimizer step\n",
    "        loss.backward()\n",
    "    torch.nn.utils.clip_grad_norm_(model.parameters(), 1.0)\n",
    "    optimizer.step()\n",
    "\n",
    "    train_losses.append(tot_loss / grad_accum_steps)\n",
    "    # Optionally print the loss\n",
    "    if current_step % 10 == 0 or current_step == num_steps - 1:\n",
    "        # eval on test\n",
    "        with torch.no_grad():\n",
    "            model.eval()\n",
    "            test_loss = 0\n",
    "            for i in range(grad_accum_steps):\n",
    "                batch = next(test_iter)\n",
    "                input_ids = batch['input_ids'].to(device)\n",
    "                attention_mask = batch['attention_mask'].to(device)\n",
    "                labels = input_ids[:, 1:][attention_mask[:, 1:]].contiguous()\n",
    "                model_output = model(input_ids[:, :-1].contiguous(), attention_mask=attention_mask[:, :-1].contiguous())\n",
    "                logits = model_output.logits[attention_mask[:, 1:].contiguous()]\n",
    "                loss = criterion(logits, labels)\n",
    "                test_loss += loss.item()\n",
    "        model.train()\n",
    "        print(f\"Step {current_step}, Train Loss: {tot_loss / grad_accum_steps}, Test Loss: {test_loss / grad_accum_steps}\")\n",
    "        test_losses.append(test_loss / grad_accum_steps)\n",
    "\n",
    "print(\"Training complete.\")\n",
    "model.save_pretrained(model_name+\"-qa-lora\")"
   ]
  },
  {
   "cell_type": "markdown",
   "metadata": {},
   "source": [
    "## Plot Train and Test Loss\n",
    "Cross entropy on train and test questions (technically shouldn't really be a difference since I don't do multiple epochs)"
   ]
  },
  {
   "cell_type": "code",
   "execution_count": 9,
   "metadata": {},
   "outputs": [
    {
     "data": {
      "image/png": "[encoded data removed]",
      "text/plain": [
       "<Figure size 640x480 with 1 Axes>"
      ]
     },
     "metadata": {},
     "output_type": "display_data"
    }
   ],
   "source": [
    "import matplotlib.pyplot as plt\n",
    "plt.plot(range(len(train_losses)), train_losses, label=\"Train Loss\")\n",
    "plt.plot(range(0, len(test_losses)*10, 10), test_losses, label=\"Test Loss\")\n",
    "plt.xlabel(\"Step\")\n",
    "plt.ylabel(\"Cross Entropy Loss\")\n",
    "plt.legend()\n",
    "plt.title(\"Train and test cross-entropy loss of model\")\n",
    "plt.show()"
   ]
  },
  {
   "cell_type": "markdown",
   "metadata": {},
   "source": [
    "## Sample new questions\n",
    "If you want to run this cell, only need 24GB, only run first cell in notebook (main imports)."
   ]
  },
  {
   "cell_type": "code",
   "execution_count": 2,
   "metadata": {},
   "outputs": [
    {
     "name": "stderr",
     "output_type": "stream",
     "text": [
      "Loading checkpoint shards: 100%|██████████| 2/2 [00:07<00:00,  3.75s/it]\n"
     ]
    }
   ],
   "source": [
    "# can load either llama-2-7b-qa-lora or llama-3-8b-qa-lora\n",
    "from transformers import AutoTokenizer, AutoModelForCausalLM, LlamaForCausalLM, LlamaTokenizer\n",
    "from peft import PeftModel\n",
    "\n",
    "model_name = \"meta-llama/Llama-2-7b-chat-hf\" # or \"meta-llama/Meta-Llama-3-8B-Instruct\"\n",
    "\n",
    "base_model = AutoModelForCausalLM.from_pretrained(model_name, torch_dtype=torch.bfloat16)\n",
    "model = PeftModel.from_pretrained(base_model, model_name+\"-qa-lora\")\n",
    "model.cuda()\n",
    "\n",
    "tokenizer = AutoTokenizer.from_pretrained(model_name)\n",
    "tokenizer.pad_token = tokenizer.eos_token"
   ]
  },
  {
   "cell_type": "code",
   "execution_count": 3,
   "metadata": {},
   "outputs": [
    {
     "name": "stdout",
     "output_type": "stream",
     "text": [
      "18460\n",
      "dict_keys(['text', 'answer', 'page', 'category', 'subcategory', 'tournament', 'difficulty', 'year', 'proto_id', 'qdb_id', 'dataset', 'qanta_id', 'tokenizations', 'first_sentence', 'answer_prompt', 'gameplay', 'fold'])\n",
      "{'text': 'After this character relates a story about how he didn\\'t know the proper way to use a wheelbarrow, he tells of how a captain dining with his father mistakenly rubbed his hands in a punch bowl.\\xa0This \"sea Prince of Wales\" leaves his home by hiding out in a canoe near a coral reef, and he is mistakenly called \"Hedgehog\" by a character who offers him a ninetieth lay, a partner of Bildad named Peleg. A door is broken down in Mrs. Hussey\\'s establishment after he locks himself in his room during a \"Ramadan.\"\\xa0He is first encountered in the Spouter-Inn where the landlord thinks he may be late because \"he can\\'t sell his head,\" and his coffin helps save the narrator after the ship he\\'s on sinks.\\xa0For 10 points, name this native of Rokovoko and savage companion of Ishmael in Moby-Dick.', 'answer': 'Queequeg', 'page': 'Queequeg', 'category': 'Literature', 'subcategory': 'Literature American', 'tournament': 'ACF Winter', 'difficulty': 'College', 'year': 2010, 'proto_id': '5476990eea23cca905506d51', 'qdb_id': None, 'dataset': 'protobowl', 'qanta_id': 0, 'tokenizations': [[0, 192], [193, 398], [399, 506], [507, 693], [694, 783]], 'first_sentence': \"After this character relates a story about how he didn't know the proper way to use a wheelbarrow, he tells of how a captain dining with his father mistakenly rubbed his hands in a punch bowl.\", 'answer_prompt': '', 'gameplay': True, 'fold': 'buzztrain'}\n",
      "Answer: cochlear implant [accept rough equivalents; do not accept \"hearing aid\"]\n",
      "Real Question: In the 1970s, the Bilger report contradicted the NIH's wishes to disband all research related to this technology, and in the 1980s the NIH gave a grant to Australia's Graham Clark to further develop the multi-channel version of this device. It can be traced back to Volta's description of sensations evoked by electrically stimulating his ears, and current manufacturers include Med-El and Advanced Bionics. Sometimes called the \"bionic ear\", for 10 points, name this device that restores hearing to deaf people, an implant in the part of the ear containing hair cells.\n",
      "Generated question: This device uses a magnet to detect sound waves and convert them into electrical signals, which are then transmitted to the brain via an electrode in the cochlea.  FTP, this device was developed by Dr. Blake Simpson in the 1960s, and was first implanted in a patient in 1978.  For 10 points, name this device that allows the deaf to hear, or its synonym, the\n",
      "\n",
      "\n",
      "\n",
      "Answer: lactic acid or lactate\n",
      "Real Question: Diabetic patients taking metformin may see a buildup of this substance, and that buildup can inhibit phosphofructokinase. Cardiac muscle is highly permeable to this compound, where it is burned as a source of fuel. It can be converted to glucose in the liver by the Cori cycle. It is typically produced from pyruvate in the absence of sufficient oxygen. Common in sour or fermented dairy products like yogurt, for 10 points, identify this metabolic product, mirrored by ethanol in plants, the result of a fermentation pathway.\n",
      "Generated question: In this substance, hydrogen ions are replaced by hydroxide ions, and it is found in the blood of athletes who have been running long distances.  FTP, name this acid that is produced when glycogen is broken down in the liver. \n",
      "\n",
      "\n",
      "\n",
      "Answer: The Starry Night\n",
      "Real Question: The background of this painting features rolling blue hills which are broken by a lone church spire. The companion to The Olive Trees, its left foreground depicts a writhing, flamelike cypress tree. It was created a year after a similar painting of the title location \"over the Rhone.\" Painted in a hospital room overlooking the village of Saint-Remy, its upper right corner features a yellow crescent moon. It also features an undulating dark blue sky, which contains eleven of the title objects. For 10 points, name this 1889 painting of the evening sky by Vincent Van Gogh.\n",
      "Generated question: This painting is the most famous work of the artist who painted The Night Watch. It features a small church and a castle with a tall tower, and is said to be an example of the \"Dutch Mannerist\" style. The painting's title is a reference to the starry night sky that is visible in the upper left corner of the work. The artist who painted this work was born in the Netherlands in 1853, and is known for his \"N\n",
      "\n",
      "\n",
      "\n"
     ]
    }
   ],
   "source": [
    "import json\n",
    "\n",
    "with open('qanta.buzztrain.json', 'r') as f:\n",
    "    data = json.load(f)\n",
    "\n",
    "print(len(data))\n",
    "print(data[0].keys())\n",
    "print(data[0])\n",
    "\n",
    "train_data = data[:int(len(data)*.8)]\n",
    "test_data = data[int(len(data)*.8):int(len(data)*.9)]\n",
    "gen_data = data[int(len(data)*.9):]\n",
    "trivia_system_message = {\"role\": \"system\", \"content\": \"\"\"You are a helpful assistant generating trivia questions. I will provide an answer, and you must generate a quizbowl question that gives clues about the answer starting with hard and ending with easy questions.\"\"\"}\n",
    "from datasets import Dataset\n",
    "\n",
    "max_length = 512\n",
    "\n",
    "def sample_question(answer, sys_msg=trivia_system_message, tokenizer=tokenizer, max_new_tokens=100):\n",
    "    answer_msg = {\"role\": \"user\", \"content\": f\"Answer: {answer}\"}\n",
    "    dialogue = [sys_msg, answer_msg]\n",
    "    \n",
    "    question_msg = {\"role\": \"assistant\", \"content\": \"Question:\\n\"}\n",
    "    dialogue.append(question_msg)\n",
    "    chat = tokenizer.apply_chat_template(dialogue)[:-1]\n",
    "\n",
    "    sample_input = torch.tensor(chat, device=\"cuda\").unsqueeze(0)\n",
    "    with torch.no_grad():\n",
    "        generation = model.generate(sample_input, max_new_tokens=max_new_tokens)\n",
    "    question_alone = generation[0][len(chat)+1:-1]\n",
    "    return tokenizer.decode(question_alone)\n",
    "\n",
    "for i in range(3):\n",
    "    answer = gen_data[i]['answer']\n",
    "    print(f\"Answer: {answer}\\nReal Question: {gen_data[i]['text']}\\nGenerated question: {sample_question(answer)}\")\n",
    "    print(\"\\n\\n\")\n",
    "\n"
   ]
  },
  {
   "cell_type": "code",
   "execution_count": null,
   "metadata": {},
   "outputs": [],
   "source": []
  }
 ],
 "metadata": {
  "kernelspec": {
   "display_name": "Python 3",
   "language": "python",
   "name": "python3"
  },
  "language_info": {
   "codemirror_mode": {
    "name": "ipython",
    "version": 3
   },
   "file_extension": ".py",
   "mimetype": "text/x-python",
   "name": "python",
   "nbconvert_exporter": "python",
   "pygments_lexer": "ipython3",
   "version": "3.10.13"
  }
 },
 "nbformat": 4,
 "nbformat_minor": 2
}
